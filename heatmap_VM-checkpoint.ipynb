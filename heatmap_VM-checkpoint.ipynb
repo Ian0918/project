{
 "cells": [
  {
   "cell_type": "code",
   "execution_count": 1,
   "metadata": {
    "executionInfo": {
     "elapsed": 3,
     "status": "ok",
     "timestamp": 1667183239430,
     "user": {
      "displayName": "Angus Ho",
      "userId": "03852031149043962364"
     },
     "user_tz": -480
    },
    "id": "8TU0ACvzGySZ"
   },
   "outputs": [],
   "source": [
    "import numpy as np\n",
    "import pandas as pd\n",
    "import matplotlib.pyplot as plt\n",
    "import datetime, os\n",
    "import seaborn as sns\n",
    "from matplotlib.ticker import MultipleLocator, FormatStrFormatter\n",
    "import gspread\n",
    "from google.oauth2.service_account import Credentials\n",
    "import warnings\n",
    "warnings.filterwarnings('ignore')\n",
    "from datetime import datetime, timedelta\n",
    "import PIL\n",
    "import schedule\n",
    "import time\n",
    "\n",
    "# from sklearn import preprocessing"
   ]
  },
  {
   "cell_type": "code",
   "execution_count": 3,
   "metadata": {
    "executionInfo": {
     "elapsed": 3,
     "status": "ok",
     "timestamp": 1667183261653,
     "user": {
      "displayName": "Angus Ho",
      "userId": "03852031149043962364"
     },
     "user_tz": -480
    },
    "id": "wF9fIjY3Gbgs"
   },
   "outputs": [],
   "source": [
    "class gdoc_information():\n",
    "    def __init__(self):\n",
    "        self.SCOPES = \"\"\n",
    "        self.SAMPLE_SPREADSHEET_ID = \"\"\n",
    "        self.SAMPLE_RANGE_NAME = \"\"\n",
    "        "
   ]
  },
  {
   "cell_type": "code",
   "execution_count": 4,
   "metadata": {
    "executionInfo": {
     "elapsed": 12470,
     "status": "ok",
     "timestamp": 1667183274465,
     "user": {
      "displayName": "Angus Ho",
      "userId": "03852031149043962364"
     },
     "user_tz": -480
    },
    "id": "ryFNdAZX_0xy"
   },
   "outputs": [],
   "source": [
    "scope = ['https://www.googleapis.com/auth/spreadsheets']\n",
    "creds = Credentials.from_service_account_file(\"credentials_10142.json\", scopes=scope)\n",
    "gs = gspread.authorize(creds)\n",
    "\n",
    "raw_gdoc = gdoc_information()\n",
    "raw_gdoc.SCOPES = 'https://docs.google.com/spreadsheets/d/1bz3Eklx-nNgHS-OCngYhedtHJwN93FYzVQJ1H-iW2KU/edit#gid=601620258'\n",
    "raw_gdoc.SAMPLE_RANGE_NAME= 'BI(Raw Data)'\n",
    "raw_sheet = gs.open_by_url(raw_gdoc.SCOPES).worksheet(raw_gdoc.SAMPLE_RANGE_NAME)\n",
    "df_raw = pd.DataFrame(raw_sheet.get_all_records()).replace('', np.nan)"
   ]
  },
  {
   "cell_type": "markdown",
   "metadata": {
    "id": "YOcO3E3RN8lL"
   },
   "source": [
    "# Data Preparation"
   ]
  },
  {
   "cell_type": "code",
   "execution_count": 5,
   "metadata": {
    "executionInfo": {
     "elapsed": 10,
     "status": "ok",
     "timestamp": 1667183274465,
     "user": {
      "displayName": "Angus Ho",
      "userId": "03852031149043962364"
     },
     "user_tz": -480
    },
    "id": "zu3q32zHG7Yg"
   },
   "outputs": [],
   "source": [
    "extended_df = df_raw.rename(columns={'location_id':'cell_code'})\n",
    "extended_df['zone'] = extended_df['cell_code'].apply(lambda x: str(x)[4:6])\n",
    "extended_df['path'] = extended_df['cell_code'].apply(lambda x: int((str(x)[7:9])))\n",
    "extended_df['seg'] = extended_df['cell_code'].apply(lambda x: int((str(x)[10:12])))\n",
    "extended_df['flo'] = extended_df['cell_code'].apply(lambda x: int((str(x)[13:14])))\n",
    "extended_df['col'] = extended_df['cell_code'].apply(lambda x: int((str(x)[15:17])))"
   ]
  },
  {
   "cell_type": "code",
   "execution_count": 6,
   "metadata": {
    "executionInfo": {
     "elapsed": 1909,
     "status": "ok",
     "timestamp": 1667183276364,
     "user": {
      "displayName": "Angus Ho",
      "userId": "03852031149043962364"
     },
     "user_tz": -480
    },
    "id": "x_YA1EmBODyh"
   },
   "outputs": [],
   "source": [
    "\n",
    "cell_list_1 = pd.read_csv('Input/CELL_LIST_1.csv')\n",
    "cell_list_0 = pd.read_csv('Input/CELL_LIST_0.csv')"
   ]
  },
  {
   "cell_type": "code",
   "execution_count": 7,
   "metadata": {
    "executionInfo": {
     "elapsed": 400,
     "status": "ok",
     "timestamp": 1667183277122,
     "user": {
      "displayName": "Angus Ho",
      "userId": "03852031149043962364"
     },
     "user_tz": -480
    },
    "id": "UgxElG379_XG"
   },
   "outputs": [],
   "source": [
    "base = pd.concat([cell_list_0, cell_list_1])\n",
    "whole_df = pd.merge(base, extended_df, on='cell_code', how='left')\n",
    "\n",
    "whole_df.loc[(whole_df['pcs'].isnull()==False) | (whole_df['sku_qty'].isnull()==False), 'cell_occupied'] = 1\n",
    "\n",
    "def block_state(x):\n",
    "    if x == '/':\n",
    "        return 1\n",
    "    else:\n",
    "         return 0\n",
    "whole_df['cell_blocked'] = whole_df['cell_occupied'].apply(block_state)\n",
    "input_df = whole_df.copy()\n",
    "input_df['cell_occupied']=0\n",
    "input_df.loc[(input_df['pcs'].isnull()==False) | (input_df['sku_qty'].isnull()==False), 'cell_occupied'] = 1\n",
    "input_df.loc[(input_df['cell_blocked'] ==1) ==True, 'cell_occupied'] = 1\n",
    "input_df.fillna(0, inplace=True)\n",
    "\n"
   ]
  },
  {
   "cell_type": "markdown",
   "metadata": {
    "id": "bvdtRhXeN1_r"
   },
   "source": [
    "# Functions"
   ]
  },
  {
   "cell_type": "code",
   "execution_count": 8,
   "metadata": {
    "code_folding": [],
    "executionInfo": {
     "elapsed": 9,
     "status": "ok",
     "timestamp": 1667183277123,
     "user": {
      "displayName": "Angus Ho",
      "userId": "03852031149043962364"
     },
     "user_tz": -480
    },
    "id": "NjeGyfl-HIsg"
   },
   "outputs": [],
   "source": [
    "def get_raw_data(url, sheet_name, gs):\n",
    "    gsheet = gs.open_by_url(url).worksheet(sheet_name)\n",
    "    df = pd.DataFrame(gsheet.get_all_records())\n",
    "    return df"
   ]
  },
  {
   "cell_type": "code",
   "execution_count": 9,
   "metadata": {},
   "outputs": [],
   "source": [
    "def get_input_df(day):\n",
    "    scope = ['https://www.googleapis.com/auth/spreadsheets']\n",
    "    creds = Credentials.from_service_account_file(\"credentials_10142.json\", scopes=scope)\n",
    "    gs = gspread.authorize(creds)\n",
    "\n",
    "    raw_gdoc = gdoc_information()\n",
    "    raw_gdoc.SCOPES = 'https://docs.google.com/spreadsheets/d/1bz3Eklx-nNgHS-OCngYhedtHJwN93FYzVQJ1H-iW2KU/edit#gid=601620258'\n",
    "    raw_gdoc.SAMPLE_RANGE_NAME= 'BI(Raw Data)'\n",
    "    raw_sheet = gs.open_by_url(raw_gdoc.SCOPES).worksheet(raw_gdoc.SAMPLE_RANGE_NAME)\n",
    "    df_raw = pd.DataFrame(raw_sheet.get_all_records()).replace('', np.nan)\n",
    "    df_raw.to_csv(f'Input/daily_storage/{day}.csv')\n",
    "    extended_df = df_raw.rename(columns={'location_id':'cell_code'})\n",
    "    extended_df['zone'] = extended_df['cell_code'].apply(lambda x: str(x)[4:6])\n",
    "    extended_df['path'] = extended_df['cell_code'].apply(lambda x: int((str(x)[7:9])))\n",
    "    extended_df['seg'] = extended_df['cell_code'].apply(lambda x: int((str(x)[10:12])))\n",
    "    extended_df['flo'] = extended_df['cell_code'].apply(lambda x: int((str(x)[13:14])))\n",
    "    extended_df['col'] = extended_df['cell_code'].apply(lambda x: int((str(x)[15:17])))\n",
    "    \n",
    "    cell_list_1 = pd.read_csv('Input/CELL_LIST_1.csv')\n",
    "    cell_list_0 = pd.read_csv('Input/CELL_LIST_0.csv')\n",
    "    \n",
    "    base = pd.concat([cell_list_0, cell_list_1])\n",
    "    whole_df = pd.merge(base, extended_df, on='cell_code', how='left')\n",
    "\n",
    "    whole_df.loc[(whole_df['pcs'].isnull()==False) | (whole_df['sku_qty'].isnull()==False), 'cell_occupied'] = 1\n",
    "\n",
    "    def block_state(x):\n",
    "        if x == '/':\n",
    "            return 1\n",
    "        else:\n",
    "             return 0\n",
    "    whole_df['cell_blocked'] = whole_df['cell_occupied'].apply(block_state)\n",
    "    input_df = whole_df.copy()\n",
    "    input_df['cell_occupied']=0\n",
    "    input_df.loc[(input_df['pcs'].isnull()==False) | (input_df['sku_qty'].isnull()==False), 'cell_occupied'] = 1\n",
    "    \n",
    "    input_df.loc[(input_df['zone_id']=='AC') & (input_df['pathway_id']<=3), 'cell_blocked'] = 1\n",
    "    input_df.loc[(input_df['zone_id']=='AC') & (input_df['pathway_id'].isin([69,70])), 'cell_blocked'] = 1\n",
    "    input_df.loc[(input_df['zone_id']=='AB') & (input_df['pathway_id'].isin(range(63,71))), 'cell_blocked'] = 1\n",
    "    \n",
    "    input_df.loc[(input_df['cell_blocked'] ==1) ==True, 'cell_occupied'] = 1\n",
    "    input_df.fillna(0, inplace=True)\n",
    "    \n",
    "    return input_df\n",
    "\n"
   ]
  },
  {
   "cell_type": "code",
   "execution_count": 10,
   "metadata": {
    "code_folding": [],
    "executionInfo": {
     "elapsed": 9,
     "status": "ok",
     "timestamp": 1667183277123,
     "user": {
      "displayName": "Angus Ho",
      "userId": "03852031149043962364"
     },
     "user_tz": -480
    },
    "id": "wht-dfOCHNDB"
   },
   "outputs": [],
   "source": [
    "def get_merge_zone(d):\n",
    "    # 把AB AC區畫分更細\n",
    "    if d[\"zone_id\"] == \"AB\" or d[\"zone_id\"] == \"AC\":\n",
    "        if d[\"pathway_id\"] >=1 and d[\"pathway_id\"] <=19:\n",
    "            return \"A\"\n",
    "        elif d[\"pathway_id\"] >=20 and d[\"pathway_id\"] <=33:\n",
    "            return \"OOS\"\n",
    "        else:\n",
    "            return \"C\"\n",
    "    elif d[\"zone_id\"] == \"DB\" or d[\"zone_id\"] == \"DD\":\n",
    "        return \"D\"\n",
    "    elif d[\"zone_id\"] == \"EB\" or d[\"zone_id\"] == \"ED\":\n",
    "        return \"E\"\n",
    "    elif d[\"zone_id\"] == \"FB\" or d[\"zone_id\"] == \"FD\":\n",
    "        return \"F\"\n",
    "    elif d[\"zone_id\"] == \"SB\" or d[\"zone_id\"] == \"SC\":\n",
    "        return \"S\"\n",
    "    else:\n",
    "        return d['zone_id']"
   ]
  },
  {
   "cell_type": "markdown",
   "metadata": {
    "id": "cXbcbYP5DG_Q"
   },
   "source": [
    "# Recommend Path: recomend_dct"
   ]
  },
  {
   "cell_type": "code",
   "execution_count": 11,
   "metadata": {
    "code_folding": [],
    "executionInfo": {
     "elapsed": 9,
     "status": "ok",
     "timestamp": 1667183277124,
     "user": {
      "displayName": "Angus Ho",
      "userId": "03852031149043962364"
     },
     "user_tz": -480
    },
    "id": "HvhFmnZsHOoA"
   },
   "outputs": [],
   "source": [
    "def recomend_path(df, zone_lst): #, raw_url, recomend_url, gs):\n",
    "    \n",
    "    df = df[ (df[\"zone_id\"].isin(zone_lst)) & (df[\"cell_occupied\"] != \"/\")] # if in \n",
    "    df[\"merge_zone\"] = df.apply(lambda x: get_merge_zone(x), axis=1)\n",
    "    df[\"cell_occupied\"].replace({\"N\":0, \"Y\": 1}, inplace=True)\n",
    "    df = df.groupby([\"merge_zone\", \"zone_id\", \"pathway_id\"]).mean()[[\"cell_occupied\"]].reset_index() # 推薦 空儲位(0) / 總儲位(0+1, 不包含\"/\"之儲位)\n",
    "    \n",
    "    merge_zone = [\"A\", \"OOS\", \"C\", \"D\", \"E\", \"F\", \"S\"]\n",
    "    recomend_dct = dict()\n",
    "\n",
    "    # 依照新的cell_occupied(每個zone每個pathway的空儲位率)推薦\n",
    "    for merge_zone in merge_zone:\n",
    "        rank10 = df[df[\"merge_zone\"] == merge_zone].sort_values(by=\"cell_occupied\").iloc[0:10]\n",
    "        recomend_dct[merge_zone] = [(i,j) for i, j in zip(rank10[\"zone_id\"], rank10[\"pathway_id\"])]\n",
    "        \n",
    "        # 上傳到 gsheet\n",
    "        recomend_df = pd.DataFrame({\n",
    "            \"推薦順序\": [i+1 for i in range(0, 10)], \n",
    "            \"區\": rank10[\"zone_id\"], \n",
    "            \"走道\": rank10[\"pathway_id\"], \n",
    "            \"使用率(%)\": [round(rate*100, 2) for rate in rank10[\"cell_occupied\"]]\n",
    "        })\n",
    "        \n",
    "        # gsheet = gs.open_by_url(recomend_url).worksheet(\"{}區\".format(merge_zone))\n",
    "        # gsheet.update([recomend_df.columns.values.tolist()] + recomend_df.values.tolist())\n",
    "    return recomend_dct"
   ]
  },
  {
   "cell_type": "markdown",
   "metadata": {
    "id": "3vVVCAR_L7IX"
   },
   "source": [
    "# Calculate Usage: zone_dct"
   ]
  },
  {
   "cell_type": "code",
   "execution_count": 12,
   "metadata": {},
   "outputs": [],
   "source": [
    "def seg_compress_half(ac_df):\n",
    "    mod = ac_df.head(36).reset_index()\n",
    "    mod = ac_df.head(36).reset_index()\n",
    "    mod['group'] = mod['segment_id'].apply(lambda x: int((x-1)/9))\n",
    "    \n",
    "    items = mod[['cell_occupied', 'sku_qty', 'pcs', 'group', 'length(cm)']].groupby(['group']).sum().reset_index().drop('group', axis = 1)\n",
    "    width = mod[['cell_blocked', 'width(cm)', 'x', 'group']].groupby('group').min().reset_index().drop('group', axis = 1)\n",
    "    length = mod[['y', 'group']].groupby('group').max().reset_index().drop('group', axis = 1)\n",
    "    \n",
    "    compressed_df = pd.concat([items, width, length], axis = 1).reset_index()\n",
    "    compressed_df.rename(columns={'index':'segment_id'}, inplace=True)\n",
    "    compressed_df['segment_id'] = compressed_df['segment_id']+1\n",
    "    \n",
    "    rest_of_df = ac_df.tail(36).reset_index()\n",
    "    rest_of_df['segment_id']-=32 \n",
    "    \n",
    "    merge_df = pd.concat([rest_of_df, compressed_df], axis= 0)\n",
    "    final_df = merge_df.sort_values(by='segment_id')\n",
    "    final_df.set_index('segment_id', inplace=True)\n",
    "    \n",
    "    return final_df"
   ]
  },
  {
   "cell_type": "code",
   "execution_count": 13,
   "metadata": {},
   "outputs": [],
   "source": [
    "def seg_compress_full(ac_df):\n",
    "    mod = ac_df.reset_index()\n",
    "    mod['group'] = mod['segment_id'].apply(lambda x: int((x-1)/9))\n",
    "    \n",
    "    items = mod[['cell_occupied', 'sku_qty', 'pcs', 'group', 'length(cm)']].groupby(['group']).sum().reset_index().drop('group', axis = 1)\n",
    "    width = mod[['cell_blocked', 'width(cm)', 'x', 'group']].groupby('group').min().reset_index().drop('group', axis = 1)\n",
    "    length = mod[['y', 'group']].groupby('group').max().reset_index().drop('group', axis = 1)\n",
    "    \n",
    "    compressed_df = pd.concat([items, width, length], axis = 1).reset_index()\n",
    "    compressed_df.rename(columns={'index':'segment_id'}, inplace=True)\n",
    "    compressed_df['segment_id'] = compressed_df['segment_id']+1\n",
    "    \n",
    "    header_df = ac_df.tail(1).reset_index()\n",
    "    \n",
    "    \n",
    "    merge_df = pd.concat([header_df, compressed_df], axis= 0)\n",
    "    final_df = merge_df.sort_values(by='segment_id')\n",
    "    final_df = final_df.head(8)\n",
    "    final_df.set_index('segment_id', inplace=True)\n",
    "    \n",
    "    return final_df"
   ]
  },
  {
   "cell_type": "code",
   "execution_count": 14,
   "metadata": {
    "code_folding": [],
    "executionInfo": {
     "elapsed": 9,
     "status": "ok",
     "timestamp": 1667183277124,
     "user": {
      "displayName": "Angus Ho",
      "userId": "03852031149043962364"
     },
     "user_tz": -480
    },
    "id": "sqAXvitdHO0I"
   },
   "outputs": [],
   "source": [
    "# current running\n",
    "def calculate_usage(df, zone_lst):\n",
    "    zone_dct = dict()\n",
    "\n",
    "    #計算每個zone 的每個 pathway\n",
    "    for zone in zone_lst:\n",
    "#         print(\"calculating zone:\", zone)\n",
    "        zone_df = df[df[\"zone_id\"] == zone]\n",
    "        # zone_df['cell_blocked']=0\n",
    "        all_pathway = zone_df[\"pathway_id\"].unique() # 該zone所有的pathway\n",
    "#         print('All pathways:', all_pathway)\n",
    "        dct = dict()\n",
    "        for idx, path in enumerate(range(1, max(all_pathway)+1)):\n",
    "          # path_df\n",
    "            if path in all_pathway: # 如果現在的編號有實體pathway (沒有被跳過)\n",
    "                path_df = zone_df[(zone_df[\"pathway_id\"] == path)][[\"segment_id\", \"cell_occupied\",'sku_qty','pcs', 'cell_blocked',\"length(cm)\", \"width(cm)\"]]\n",
    "\n",
    "                # 2022/09/19 Update:  \n",
    "                # path_df['cell_blocked']=0\n",
    "                # path_df.loc[path_df['cell_occupied']=='/', 'cell_blocked'] = 1\n",
    "                # path_df.loc[path_df['cell_occupied']!='/', 'cell_blocked'] = 0\n",
    "                \n",
    "\n",
    "                # path_df[\"cell_occupied\"].replace({\"N\":0, \"Y\": 1, \"/\":0}, inplace=True)\n",
    "                path_df = path_df.groupby(\"segment_id\").mean()\n",
    "                path_df[\"length(cm)\"] = 2000 / len(path_df.index) # 該segment有幾個cell\n",
    "                \n",
    "                \n",
    "\n",
    "            else:\n",
    "                path_df = pd.DataFrame({\"cell_occupied\":[0], \"length(cm)\":[0], 'cell_blocked':[0], 'sku_qty':[0], 'pcs':[0]})\n",
    "            \n",
    "            path_df[\"x\"] = 100*path\n",
    "            path_df[\"y\"] = path_df[\"length(cm)\"].cumsum()\n",
    "            dct[path] = path_df\n",
    "        \n",
    "            \n",
    "        zone_dct[zone] = dct\n",
    "    \n",
    "    return zone_dct"
   ]
  },
  {
   "cell_type": "code",
   "execution_count": 15,
   "metadata": {
    "code_folding": [
     1
    ],
    "executionInfo": {
     "elapsed": 7,
     "status": "ok",
     "timestamp": 1667183277124,
     "user": {
      "displayName": "Angus Ho",
      "userId": "03852031149043962364"
     },
     "user_tz": -480
    },
    "id": "Go5or-3Drwqs"
   },
   "outputs": [],
   "source": [
    "# testing\n",
    "def calculate_usage_testing(df, zone_lst):\n",
    "    zone_dct = dict()\n",
    "    \n",
    "    #計算每個zone 的每個 pathway\n",
    "    for zone in zone_lst:\n",
    "        zone_df = df[(df[\"zone_id\"] == zone)]\n",
    "        zone_df['cell_blocked']=0\n",
    "        all_pathway = zone_df[\"pathway_id\"].unique() # 該zone所有的pathway\n",
    "        dct = dict()\n",
    "        for idx, path in enumerate(range(1, max(all_pathway)+1)):\n",
    "          # path_df\n",
    "            if path in all_pathway: # 如果現在的編號有實體pathway (沒有被跳過)\n",
    "                path_df = zone_df[(zone_df[\"pathway_id\"] == path)][[\"segment_id\", \"cell_occupied\",'sku_qty','pcs', \"length(cm)\", \"width(cm)\"]]\n",
    "\n",
    "                # 2022/09/19 Update:  \n",
    "                # path_df['cell_blocked']=0\n",
    "                # path_df.loc[path_df['cell_occupied']=='/', 'cell_blocked'] = 1\n",
    "                # path_df.loc[path_df['cell_occupied']!='/', 'cell_blocked'] = 0\n",
    "                \n",
    "                \n",
    "                # path_df[\"cell_occupied\"].replace({\"N\":0, \"Y\": 1, \"/\":0}, inplace=True)\n",
    "                path_df = path_df.groupby(\"segment_id\").mean()\n",
    "                path_df[\"length(cm)\"] = 2000 / len(path_df.index) # 該segment有幾個cell\n",
    "                \n",
    "            else:\n",
    "                path_df = pd.DataFrame({\"cell_occupied\":[0], \"length(cm)\":[0], 'cell_blocked':[0], 'sku_qty':[0], 'pcs':[0]})\n",
    "            \n",
    "            path_df[\"x\"] = 100*path\n",
    "            path_df[\"y\"] = path_df[\"length(cm)\"].cumsum()\n",
    "            dct[path] = path_df\n",
    "            \n",
    "        zone_dct[zone] = dct\n",
    "    \n",
    "    return zone_dct"
   ]
  },
  {
   "cell_type": "markdown",
   "metadata": {
    "id": "UfQskQqadxQ3"
   },
   "source": [
    "# Plot "
   ]
  },
  {
   "cell_type": "code",
   "execution_count": 16,
   "metadata": {
    "code_folding": [],
    "executionInfo": {
     "elapsed": 7,
     "status": "ok",
     "timestamp": 1667183277124,
     "user": {
      "displayName": "Angus Ho",
      "userId": "03852031149043962364"
     },
     "user_tz": -480
    },
    "id": "rIANvH_wdwno"
   },
   "outputs": [],
   "source": [
    "from matplotlib import patches\n",
    "def plotheatmap(zone_dct, recomend_dct, by:str, threshold:int):\n",
    "    \"\"\"\n",
    "    zone_dct: {zone_id: {path: path_df}}\n",
    "    recomend_dct: dct\n",
    "    by: cell_occupied, pcs, sku_qty\n",
    "    threshold: denominator of retangle alpha\n",
    "    \"\"\"\n",
    "\n",
    "\n",
    "    now = datetime.now().strftime(\"%Y-%m-%d\")\n",
    "    # for f in os.listdir('/content/drive/MyDrive/heatmap_testViz/Output/'+by):\n",
    "    #     os.remove(os.path.join('/content/drive/MyDrive/heatmap_testViz/Output/'+by, f))\n",
    "\n",
    "    for zone, dct in zone_dct.items():\n",
    "        print(f'Plotting: {zone}')\n",
    "        #initialize figure\n",
    "        plt.clf()\n",
    "        fig,ax = plt.subplots()\n",
    "        fig.set_figheight(6)\n",
    "        fig.set_figwidth(20)\n",
    "        ax.set_facecolor('whitesmoke')\n",
    "        ax.xaxis.set_ticks_position('top')\n",
    "        ax.invert_yaxis() # y axis inversion\n",
    "        #initialize ticks\n",
    "        x_lst, y_lst, y_ticks = [], [], []\n",
    "        for path, path_df in dct.items():\n",
    "            for i, grid in path_df.iterrows():\n",
    "                \n",
    "                    if by != 'cell_occupied': # pcs, sku\n",
    "                        if grid['cell_blocked'] != 1:\n",
    "                            rect_storage = plt.Rectangle(\n",
    "                                (grid[\"x\"]-100, grid[\"y\"]-grid[\"length(cm)\"]), # xy\n",
    "                                100, # width\n",
    "                                grid[\"length(cm)\"], # height\n",
    "                                edgecolor= \"snow\",\n",
    "                                facecolor = \"darkred\",\n",
    "                                fill=True,\n",
    "                                alpha=grid[by]\n",
    "                            )\n",
    "                            ax.add_patch(rect_storage)\n",
    "                    else: #cell occupied\n",
    "                        rect_storage = plt.Rectangle(\n",
    "                            (grid[\"x\"]-100, grid[\"y\"]-grid[\"length(cm)\"]), # xy\n",
    "                            100, # width\n",
    "                            grid[\"length(cm)\"], # height\n",
    "                            edgecolor= \"snow\",\n",
    "                            facecolor = \"lightcoral\",\n",
    "                            fill=True,\n",
    "                            alpha=grid[by]\n",
    "                        )\n",
    "                        ax.add_patch(rect_storage)\n",
    "                    # 柱子\n",
    "                    if grid['cell_blocked'] == 1:\n",
    "                        rect_blocked = plt.Rectangle(\n",
    "                            (grid[\"x\"]-100, grid[\"y\"]-grid[\"length(cm)\"]), # xy\n",
    "                            100, # width\n",
    "                            grid[\"length(cm)\"], # height\n",
    "                            edgecolor= \"snow\",\n",
    "                            facecolor = \"gray\",\n",
    "                            fill=True,\n",
    "                            #alpha=grid[\"cell_blocked\"]\n",
    "                        )\n",
    "                        ax.add_patch(rect_blocked)\n",
    "                    # if zone == 'AB' or zone == 'AC':\n",
    "                    #     ax.add_patch(\n",
    "                    #     patches.Rectangle(\n",
    "                    #         (0, 0),\n",
    "                    #         2000,\n",
    "                    #         2000,\n",
    "                    #         edgecolor='red',\n",
    "                    #         fill=False,\n",
    "                    #         lw=2\n",
    "                    #     ) )\n",
    "\n",
    "            x_lst.append(max(path_df[\"x\"]))\n",
    "            y_lst.append(max(path_df[\"y\"]))\n",
    "            y_ticks.append(len(path_df.index))\n",
    "\n",
    "        original_xticks = [i for i in dct.keys()]\n",
    "        original_yticks = range(0, 2000, int(2000/max(y_ticks)+1)*5)\n",
    "        #   print('DEBUG:')\n",
    "        #   print(x_lst)\n",
    "        #   print(original_xticks)\n",
    "        plt.xticks(x_lst, original_xticks)\n",
    "        plt.yticks(original_yticks, [(i)*5 for i in range(len(original_yticks))])\n",
    "\n",
    "        #ax.xaxis.set_minor_locator(MultipleLocator(3))\n",
    "\n",
    "        plt.axis([0, max(x_lst), max(y_lst), 0])\n",
    "        plt.title(zone)\n",
    "\n",
    "        if zone == \"AB\" or zone == \"AC\":\n",
    "            \n",
    "            # 分區框線\n",
    "            ax.add_patch( patches.Rectangle( (0, 0), 1100, 2000, edgecolor='black', fill=False, lw=4) ) # B\n",
    "            ax.add_patch( patches.Rectangle( (1100, 0), 1100, 2000, edgecolor='black', fill=False, lw=4) ) # A\n",
    "            ax.add_patch( patches.Rectangle( (2200, 0), 1400, 2000, edgecolor='black', fill=False, lw=4) ) # OOS\n",
    "            ax.add_patch( patches.Rectangle( (3700, 0), 3300, 2000, edgecolor='black', fill=False, lw=4) ) # C\n",
    "#             ax.add_patch( patches.Rectangle( (0, 0), 300, 2000, edgecolor='gray', fill=False, lw=5) ) # 灰色\n",
    "            # plt.text(950, 0.5, '1', fontsize=14, transform=plt.gcf().transFigure)\n",
    "            # plt.text(2650, 0.5, '2', fontsize=14, transform=plt.gcf().transFigure)\n",
    "            # plt.text(5000, 0.5, '3', fontsize=14, transform=plt.gcf().transFigure)\n",
    "            ax.annotate('B',\n",
    "            xy=(5.5/70, 0), xytext=(8/70, 20),\n",
    "            xycoords=('axes fraction', 'figure fraction'),\n",
    "            textcoords='offset points',\n",
    "            size=20, ha='center', va='bottom')\n",
    "            \n",
    "            ax.annotate('A',\n",
    "            xy=(16.5/70, 0), xytext=(8/70, 20),\n",
    "            xycoords=('axes fraction', 'figure fraction'),\n",
    "            textcoords='offset points',\n",
    "            size=20, ha='center', va='bottom')\n",
    "\n",
    "            ax.annotate('OOS',\n",
    "            xy=(29/70, 0), xytext=(26/70, 20),\n",
    "            xycoords=('axes fraction', 'figure fraction'),\n",
    "            textcoords='offset points',\n",
    "            size=20, ha='center', va='bottom')\n",
    "\n",
    "            ax.annotate('C',\n",
    "            xy=(53.5/70, 0), xytext=(50/70, 20),\n",
    "            xycoords=('axes fraction', 'figure fraction'),\n",
    "            textcoords='offset points',\n",
    "            size=20, ha='center', va='bottom')\n",
    "\n",
    "            for i ,(z, path) in enumerate(recomend_dct[\"A\"]):\n",
    "                if z == zone:\n",
    "                    original_xticks[path-1] = \"#{}\\n{}\".format(i+1, path)\n",
    "                    ax.get_xticklabels()[path-1].set_color(\"red\")\n",
    "\n",
    "            for i ,(z, path) in enumerate(recomend_dct[\"OOS\"]):\n",
    "                if z == zone:\n",
    "                    original_xticks[path-1] = \"#{}\\n{}\".format(i+1, path)\n",
    "                    ax.get_xticklabels()[path-1].set_color(\"blue\")\n",
    "\n",
    "            for i ,(z, path) in enumerate(recomend_dct[\"C\"]):\n",
    "                if z == zone:\n",
    "                    original_xticks[path-1] = \"#{}\\n{}\".format(i+1, path)\n",
    "                    ax.get_xticklabels()[path-1].set_color(\"purple\")\n",
    "        else:\n",
    "            pass\n",
    "        \n",
    "        plt.xticks(x_lst, original_xticks)\n",
    "        now = datetime.now().strftime(\"%Y-%m-%d\")\n",
    "        if zone == 'SB' or zone =='SC':\n",
    "            ax.invert_yaxis() # y axis inversion\n",
    "            \n",
    "#         plt.savefig('/content/drive/MyDrive/heatmap_testViz/Output/{}/{}_{}_{}.jpg'.format(zone, zone,by, now), dpi=400, transparent=False)\n",
    "        if zone == 'AB' or zone == 'AC':\n",
    "            if by == 'cell_occupied':\n",
    "                plt.savefig('Result/{}.jpg'.format(zone,zone,by), dpi=400, transparent=False)\n",
    "            else:\n",
    "                plt.savefig('Output/{}/{}/{}_all_{}.jpg'.format(zone, now,zone,by), dpi=400, transparent=False)\n",
    "        else:\n",
    "            plt.savefig('Output/{}/{}/{}_all_{}.jpg'.format(zone,now,zone,by), dpi=400, transparent=False)\n",
    "        \n",
    "        # for x_tick in ax.get_xticklabels():\n",
    "        #     x_tick.set_color(\"black\")\n",
    "    "
   ]
  },
  {
   "cell_type": "code",
   "execution_count": 17,
   "metadata": {
    "code_folding": [],
    "executionInfo": {
     "elapsed": 7,
     "status": "ok",
     "timestamp": 1667183277125,
     "user": {
      "displayName": "Angus Ho",
      "userId": "03852031149043962364"
     },
     "user_tz": -480
    },
    "id": "sMMr1CZdOcaF"
   },
   "outputs": [],
   "source": [
    "from matplotlib import patches\n",
    "def plotheatmap_byfloor(zone_dct, by:str, threshold:int, floor_num):\n",
    "    \"\"\"\n",
    "    zone_dct: {zone_id: {path: path_df}}\n",
    "    recomend_dct: dct\n",
    "    by: cell_occupied, pcs, sku_qty\n",
    "    threshold: denominator of retangle alpha\n",
    "    \"\"\"\n",
    "    # fig,ax = plt.subplots()\n",
    "    # fig.set_figheight(6)\n",
    "    # fig.set_figwidth(20)\n",
    "    # ax.set_facecolor('whitesmoke')\n",
    "    # ax.xaxis.set_ticks_position('top')\n",
    "    # ax.invert_yaxis()\n",
    "\n",
    "    now = datetime.now().strftime(\"%Y-%m-%d\")\n",
    "#     for f in os.listdir('/content/drive/MyDrive/heatmap_testViz/Output/'+by+'/floor{}'.format(floor_num)):\n",
    "#         os.remove(os.path.join('/content/drive/MyDrive/heatmap_testViz/Output/'+by+'/floor{}'.format(floor_num), f))\n",
    "\n",
    "    for zone, dct in zone_dct.items():\n",
    "        print(f'Plotting: {zone}')\n",
    "        #initialize figure\n",
    "        plt.clf()\n",
    "        fig,ax = plt.subplots()\n",
    "        fig.set_figheight(6)\n",
    "        fig.set_figwidth(20)\n",
    "        ax.set_facecolor('whitesmoke')\n",
    "        ax.xaxis.set_ticks_position('top')\n",
    "        ax.invert_yaxis() # y axis inversion\n",
    "        #initialize ticks\n",
    "        x_lst, y_lst, y_ticks = [], [], []\n",
    "        for path, path_df in dct.items():\n",
    "            for i, grid in path_df.iterrows():\n",
    "                \n",
    "                    if by != 'cell_occupied': # pcs, sku\n",
    "                        if grid['cell_blocked'] != 1:\n",
    "                            rect_storage = plt.Rectangle(\n",
    "                                (grid[\"x\"]-100, grid[\"y\"]-grid[\"length(cm)\"]), # xy\n",
    "                                100, # width\n",
    "                                grid[\"length(cm)\"], # height\n",
    "                                edgecolor= \"snow\",\n",
    "                                facecolor = \"darkred\",\n",
    "                                fill=True,\n",
    "                                alpha=grid[by] / threshold\n",
    "                            )\n",
    "                            ax.add_patch(rect_storage)\n",
    "                    else: #cell occupied\n",
    "                        rect_storage = plt.Rectangle(\n",
    "                            (grid[\"x\"]-100, grid[\"y\"]-grid[\"length(cm)\"]), # xy\n",
    "                            100, # width\n",
    "                            grid[\"length(cm)\"], # height\n",
    "                            edgecolor= \"snow\",\n",
    "                            facecolor = \"lightcoral\",\n",
    "                            fill=True,\n",
    "                            alpha=grid[by]\n",
    "                        )\n",
    "                        ax.add_patch(rect_storage)\n",
    "                    # 柱子\n",
    "                    if grid['cell_blocked'] == 1:\n",
    "                        rect_blocked = plt.Rectangle(\n",
    "                            (grid[\"x\"]-100, grid[\"y\"]-grid[\"length(cm)\"]), # xy\n",
    "                            100, # width\n",
    "                            grid[\"length(cm)\"], # height\n",
    "                            edgecolor= \"snow\",\n",
    "                            facecolor = \"gray\",\n",
    "                            fill=True,\n",
    "                            #alpha=grid[\"cell_blocked\"]\n",
    "                        )\n",
    "                        ax.add_patch(rect_blocked)\n",
    "                    # if zone == 'AB' or zone == 'AC':\n",
    "                    #     ax.add_patch(\n",
    "                    #     patches.Rectangle(\n",
    "                    #         (0, 0),\n",
    "                    #         2000,\n",
    "                    #         2000,\n",
    "                    #         edgecolor='red',\n",
    "                    #         fill=False,\n",
    "                    #         lw=2\n",
    "                    #     ) )\n",
    "\n",
    "            x_lst.append(max(path_df[\"x\"]))\n",
    "            y_lst.append(max(path_df[\"y\"]))\n",
    "            y_ticks.append(len(path_df.index))\n",
    "\n",
    "        original_xticks = [i for i in dct.keys()]\n",
    "        original_yticks = range(0, 2000, int(2000/max(y_ticks)+1)*5)\n",
    "        #   print('DEBUG:')\n",
    "        #   print(x_lst)\n",
    "        #   print(original_xticks)\n",
    "        plt.xticks(x_lst, original_xticks)\n",
    "        plt.yticks(original_yticks, [(i)*5 for i in range(len(original_yticks))])\n",
    "\n",
    "        #ax.xaxis.set_minor_locator(MultipleLocator(3))\n",
    "\n",
    "        plt.axis([0, max(x_lst), max(y_lst), 0])\n",
    "        plt.title(zone+\" \"+str(floor_num)+\"F\", fontsize=20)\n",
    "\n",
    "        if zone == \"AB\" or zone == \"AC\":\n",
    "            \n",
    "            # 分區框線\n",
    "#             ax.add_patch( patches.Rectangle( (0, 0), 1900, 2000, edgecolor='black', fill=False, lw=4) ) # A\n",
    "#             ax.add_patch( patches.Rectangle( (1900, 0), 1400, 2000, edgecolor='black', fill=False, lw=4) ) # OOS\n",
    "#             ax.add_patch( patches.Rectangle( (3300, 0), 3700, 2000, edgecolor='black', fill=False, lw=4) ) # C\n",
    "            \n",
    "            ax.add_patch( patches.Rectangle( (0, 0), 1500, 2000, edgecolor='black', fill=False, lw=4) ) # B\n",
    "            ax.add_patch( patches.Rectangle( (1500, 0), 700, 2000, edgecolor='black', fill=False, lw=4) ) # A\n",
    "            ax.add_patch( patches.Rectangle( (2300, 0), 1400, 2000, edgecolor='black', fill=False, lw=4) ) # OOS\n",
    "            ax.add_patch( patches.Rectangle( (3700, 0), 3300, 2000, edgecolor='black', fill=False, lw=4) ) # C\n",
    "#             ax.add_patch( patches.Rectangle( (0, 0), 300, 2000, edgecolor='gray', fill=False, lw=5) ) # 灰色\n",
    "\n",
    "            # plt.text(950, 0.5, '1', fontsize=14, transform=plt.gcf().transFigure)\n",
    "            # plt.text(2650, 0.5, '2', fontsize=14, transform=plt.gcf().transFigure)\n",
    "            # plt.text(5000, 0.5, '3', fontsize=14, transform=plt.gcf().transFigure)\n",
    "#             ax.annotate('A',\n",
    "#             xy=(8.5/70, 0), xytext=(8/70, 20),\n",
    "#             xycoords=('axes fraction', 'figure fraction'),\n",
    "#             textcoords='offset points',\n",
    "#             size=20, ha='center', va='bottom')\n",
    "\n",
    "#             ax.annotate('OOS',\n",
    "#             xy=(26/70, 0), xytext=(26/70, 20),\n",
    "#             xycoords=('axes fraction', 'figure fraction'),\n",
    "#             textcoords='offset points',\n",
    "#             size=20, ha='center', va='bottom')\n",
    "\n",
    "#             ax.annotate('C',\n",
    "#             xy=(50.5/70, 0), xytext=(50/70, 20),\n",
    "#             xycoords=('axes fraction', 'figure fraction'),\n",
    "#             textcoords='offset points',\n",
    "#             size=20, ha='center', va='bottom')\n",
    "            #分層畫沒有推薦\n",
    "\n",
    "            # for i ,(z, path) in enumerate(recomend_dct[\"A\"]):\n",
    "            #     if z == zone:\n",
    "            #         original_xticks[path-1] = \"#{}\\n{}\".format(i+1, path)\n",
    "            #         ax.get_xticklabels()[path-1].set_color(\"red\")\n",
    "\n",
    "            # for i ,(z, path) in enumerate(recomend_dct[\"OOS\"]):\n",
    "            #     if z == zone:\n",
    "            #         original_xticks[path-1] = \"#{}\\n{}\".format(i+1, path)\n",
    "            #         ax.get_xticklabels()[path-1].set_color(\"blue\")\n",
    "\n",
    "            # for i ,(z, path) in enumerate(recomend_dct[\"C\"]):\n",
    "            #     if z == zone:\n",
    "            #         original_xticks[path-1] = \"#{}\\n{}\".format(i+1, path)\n",
    "            #         ax.get_xticklabels()[path-1].set_color(\"purple\")\n",
    "        else:\n",
    "            pass\n",
    "        \n",
    "        plt.xticks(x_lst, original_xticks)\n",
    "\n",
    "        if zone == 'SB' or zone =='SC':\n",
    "            ax.invert_xaxis() # x axis inversion\n",
    "            \n",
    "#         plt.savefig('Output/'+by+'/floor{}'.format(floor_num)+'/{}_{}.jpg'.format(zone, now), dpi=400, transparent=False)\n",
    "        plt.savefig('Output/{}/{}/{}_{}_{}F_{}'.format(zone, now, zone, by, floor_num ,now), dpi=400, transparent=False)\n",
    "\n",
    "        # for x_tick in ax.get_xticklabels():\n",
    "        #     x_tick.set_color(\"black\")\n",
    "    "
   ]
  },
  {
   "cell_type": "code",
   "execution_count": 18,
   "metadata": {},
   "outputs": [],
   "source": [
    "from PIL import Image\n",
    "\n",
    "def image_concat(zone, topic):\n",
    "    now = datetime.now().strftime(\"%Y-%m-%d\")\n",
    "    img1 = Image.open('Output/{}/{}/{}_{}_1F_{}.png'.format(zone, now,  zone,topic, now))\n",
    "    img2 = Image.open('Output/{}/{}/{}_{}_2F_{}.png'.format(zone, now,  zone,topic, now))\n",
    "    img3 = Image.open('Output/{}/{}/{}_{}_3F_{}.png'.format(zone, now,  zone,topic, now))\n",
    "    img4 = Image.open('Output/{}/{}/{}_{}_4F_{}.png'.format(zone, now,  zone,topic, now))\n",
    "    max_width = max(img1.size[0], img2.size[0], img3.size[0], img4.size[0])\n",
    "    max_height = max(img1.size[1], img2.size[1], img3.size[1], img4.size[1])\n",
    "    joint = Image.new(\"RGB\", (max_width, max_height*4))\n",
    "    loc1, loc2, loc3, loc4 = (0,0), (0, max_height*1),(0, max_height*2), (0, max_height*3)\n",
    "    # print(max_height, max_width)\n",
    "    joint.paste(img1, loc1)\n",
    "    joint.paste(img2, loc2)\n",
    "    joint.paste(img3, loc3)\n",
    "    joint.paste(img4, loc4)\n",
    "    joint.save('Result/{}.jpg'.format(zone,zone, topic))"
   ]
  },
  {
   "cell_type": "markdown",
   "metadata": {
    "id": "--Xixy7WS_CY"
   },
   "source": [
    "# Main"
   ]
  },
  {
   "cell_type": "code",
   "execution_count": 19,
   "metadata": {},
   "outputs": [],
   "source": [
    "def main():\n",
    "    now =datetime.now().strftime(\"%Y-%m-%d\")\n",
    "    input_df = get_input_df(now)\n",
    "#     print(input_df.shape)\n",
    "#     now =datetime.now().strftime(\"%Y-%m-%d\")\n",
    "    zone_lst =['AB', 'AC', 'DB', 'DD', 'FB','FD', 'EB','ED','SC', 'SB']\n",
    "    try:\n",
    "        for zone in zone_lst:\n",
    "            if os.path.exists('Result/{}/{}'.format(zone, now)) == False:\n",
    "                os.makedirs('Output/{}/{}'.format(zone, now))\n",
    "    except:\n",
    "        pass\n",
    "        \n",
    "    # Sec1. 四層一起畫\n",
    "    print('Start Plotting ALL_FLOORS...')\n",
    "    # 1.\n",
    "\n",
    "    zone_lst =['AB', 'AC', 'DB', 'DD', 'FB','FD', 'EB','ED','SC', 'SB'] #HV\n",
    "    floor_lst = [1,2,3,4]\n",
    "    #     df = pd.read_csv('/content/drive/MyDrive/heatmap_testViz/HM_test.csv')\n",
    "    df = input_df[input_df['zone_id'].isin(zone_lst) & input_df['floor_id'].isin(floor_lst)]\n",
    "\n",
    "    # 2. 計算並推薦前十空的走道 (沒有AB AC區就不用跑，有ABAC)\n",
    "    recomend_dct=[]\n",
    "    recomend_dct = recomend_path(df, zone_lst)\n",
    "#     print(recomend_dct)\n",
    "#     print(\"Rec done...\")\n",
    "\n",
    "    # 3. 計算每個儲位的使用狀態\n",
    "    zone_dct = calculate_usage(df, zone_lst)\n",
    "    #print(zone_dct.items())\n",
    "#     print(\"Usage done...\")\n",
    "\n",
    "    # 4. 額外處理 AC\n",
    "    for path in range(10, 12):\n",
    "        zone_dct['AC'][path] = seg_compress_half(zone_dct['AC'][path])\n",
    "    for path in range(12, 16):\n",
    "        zone_dct['AC'][path] = seg_compress_full(zone_dct['AC'][path])\n",
    "\n",
    "    # 5. 繪製圖片\n",
    "    # sku_qty: 3.5\n",
    "    # pcs: 30\n",
    "    print('Start Plotting ALL_FLOORS...')\n",
    "    for topic in ['cell_occupied']:#,'pcs', 'sku_qty']:\n",
    "        thres = 1 if topic == 'pcs' else 1\n",
    "        plotheatmap(zone_dct, recomend_dct, by=topic , threshold=thres)\n",
    "    print(\"Plot for all floors {} done...\".format(topic))\n",
    "    #Sec 2. 分層畫\n",
    "    print('Start Plotting SEP_FLOORS...')\n",
    "    zone_lst =['AB','AC','DB', 'DD', 'FB','FD', 'EB','ED','SC', 'SB'] #HV\n",
    "    floor_lst = [1,2,3,4]\n",
    "\n",
    "    input_df = input_df[input_df['zone_id'].isin(zone_lst)]\n",
    "    for topic in ['cell_occupied']:#,'pcs', 'sku_qty']:\n",
    "        for floor_num in floor_lst:\n",
    "            print(topic, floor_num)\n",
    "            # 獲取指定樓層的資料\n",
    "            df = input_df[input_df['floor_id']==floor_num]\n",
    "\n",
    "\n",
    "            # 計算每個儲位的使用狀態        \n",
    "            zone_dct = calculate_usage(df, zone_lst)\n",
    "\n",
    "            # 繪製熱點圖\n",
    "            threshold = 30 if topic == 'pcs' else 3.5\n",
    "            plotheatmap_byfloor(zone_dct, by=topic, threshold=threshold, floor_num = floor_num)\n",
    "            # print(\"floor{}.format(floor_num) done...\")\n",
    "    # Sec 3. Merge\n",
    "    print(\"Plot for seperate floors {} done...\".format(topic))\n",
    "    print('Start Merging...')\n",
    "#     for zone in zone_lst:\n",
    "#         if os.path.exists('Result/{}'.format(zone)) == False:\n",
    "#             os.makedirs('Result/{}'.format(zone))\n",
    "    for zone in zone_lst:\n",
    "        if zone != 'AC' and zone != 'AB':\n",
    "            for topic in ['cell_occupied']:\n",
    "                image_concat(zone, topic)\n",
    "#     for zone in zone_lst:\n",
    "#         if os.path.exists('Result/{}/分別樓層'.format(zone)) == False:\n",
    "#             os.makedirs('Result/{}/分別樓層'.format(zone))\n",
    "#     for zone in zone_lst:\n",
    "#         for f in os.listdir('Result/{}/分別樓層'.format(zone)):\n",
    "#             os.remove(os.path.join('Result/{}/分別樓層'.format(zone), f))\n",
    "#         for topic in ['pcs', 'sku_qty', 'cell_occupied']:\n",
    "#             image_concat(zone, topic)\n",
    "    print('Heatmap Updated.')\n"
   ]
  },
  {
   "cell_type": "code",
   "execution_count": 15,
   "metadata": {},
   "outputs": [
    {
     "name": "stdout",
     "output_type": "stream",
     "text": [
      "Start Plotting ALL_FLOORS...\n",
      "Start Plotting ALL_FLOORS...\n",
      "Plotting: AB\n",
      "Plotting: AC\n",
      "Plotting: DB\n",
      "Plotting: DD\n",
      "Plotting: FB\n",
      "Plotting: FD\n",
      "Plotting: EB\n",
      "Plotting: ED\n",
      "Plotting: SC\n",
      "Plotting: SB\n",
      "Plot for all floors cell_occupied done...\n",
      "Start Plotting SEP_FLOORS...\n",
      "cell_occupied 1\n",
      "Plotting: AB\n",
      "Plotting: AC\n",
      "Plotting: DB\n",
      "Plotting: DD\n",
      "Plotting: FB\n",
      "Plotting: FD\n",
      "Plotting: EB\n",
      "Plotting: ED\n",
      "Plotting: SC\n",
      "Plotting: SB\n",
      "cell_occupied 2\n",
      "Plotting: AB\n",
      "Plotting: AC\n",
      "Plotting: DB\n",
      "Plotting: DD\n",
      "Plotting: FB\n",
      "Plotting: FD\n",
      "Plotting: EB\n",
      "Plotting: ED\n",
      "Plotting: SC\n",
      "Plotting: SB\n",
      "cell_occupied 3\n",
      "Plotting: AB\n",
      "Plotting: AC\n",
      "Plotting: DB\n",
      "Plotting: DD\n",
      "Plotting: FB\n",
      "Plotting: FD\n",
      "Plotting: EB\n",
      "Plotting: ED\n",
      "Plotting: SC\n",
      "Plotting: SB\n",
      "cell_occupied 4\n",
      "Plotting: AB\n",
      "Plotting: AC\n",
      "Plotting: DB\n",
      "Plotting: DD\n",
      "Plotting: FB\n",
      "Plotting: FD\n",
      "Plotting: EB\n",
      "Plotting: ED\n",
      "Plotting: SC\n",
      "Plotting: SB\n",
      "Plot for seperate floors cell_occupied done...\n",
      "Start Merging...\n",
      "Heatmap Updated.\n"
     ]
    },
    {
     "data": {
      "text/plain": [
       "<Figure size 432x288 with 0 Axes>"
      ]
     },
     "metadata": {},
     "output_type": "display_data"
    },
    {
     "data": {
      "text/plain": [
       "<Figure size 1440x432 with 0 Axes>"
      ]
     },
     "metadata": {},
     "output_type": "display_data"
    },
    {
     "data": {
      "text/plain": [
       "<Figure size 1440x432 with 0 Axes>"
      ]
     },
     "metadata": {},
     "output_type": "display_data"
    },
    {
     "data": {
      "text/plain": [
       "<Figure size 1440x432 with 0 Axes>"
      ]
     },
     "metadata": {},
     "output_type": "display_data"
    },
    {
     "data": {
      "text/plain": [
       "<Figure size 1440x432 with 0 Axes>"
      ]
     },
     "metadata": {},
     "output_type": "display_data"
    },
    {
     "data": {
      "text/plain": [
       "<Figure size 1440x432 with 0 Axes>"
      ]
     },
     "metadata": {},
     "output_type": "display_data"
    },
    {
     "data": {
      "text/plain": [
       "<Figure size 1440x432 with 0 Axes>"
      ]
     },
     "metadata": {},
     "output_type": "display_data"
    },
    {
     "data": {
      "text/plain": [
       "<Figure size 1440x432 with 0 Axes>"
      ]
     },
     "metadata": {},
     "output_type": "display_data"
    },
    {
     "data": {
      "text/plain": [
       "<Figure size 1440x432 with 0 Axes>"
      ]
     },
     "metadata": {},
     "output_type": "display_data"
    },
    {
     "data": {
      "text/plain": [
       "<Figure size 1440x432 with 0 Axes>"
      ]
     },
     "metadata": {},
     "output_type": "display_data"
    },
    {
     "data": {
      "text/plain": [
       "<Figure size 1440x432 with 0 Axes>"
      ]
     },
     "metadata": {},
     "output_type": "display_data"
    },
    {
     "data": {
      "text/plain": [
       "<Figure size 1440x432 with 0 Axes>"
      ]
     },
     "metadata": {},
     "output_type": "display_data"
    },
    {
     "data": {
      "text/plain": [
       "<Figure size 1440x432 with 0 Axes>"
      ]
     },
     "metadata": {},
     "output_type": "display_data"
    },
    {
     "data": {
      "text/plain": [
       "<Figure size 1440x432 with 0 Axes>"
      ]
     },
     "metadata": {},
     "output_type": "display_data"
    },
    {
     "data": {
      "text/plain": [
       "<Figure size 1440x432 with 0 Axes>"
      ]
     },
     "metadata": {},
     "output_type": "display_data"
    },
    {
     "data": {
      "text/plain": [
       "<Figure size 1440x432 with 0 Axes>"
      ]
     },
     "metadata": {},
     "output_type": "display_data"
    },
    {
     "data": {
      "text/plain": [
       "<Figure size 1440x432 with 0 Axes>"
      ]
     },
     "metadata": {},
     "output_type": "display_data"
    },
    {
     "data": {
      "text/plain": [
       "<Figure size 1440x432 with 0 Axes>"
      ]
     },
     "metadata": {},
     "output_type": "display_data"
    },
    {
     "data": {
      "text/plain": [
       "<Figure size 1440x432 with 0 Axes>"
      ]
     },
     "metadata": {},
     "output_type": "display_data"
    },
    {
     "data": {
      "text/plain": [
       "<Figure size 1440x432 with 0 Axes>"
      ]
     },
     "metadata": {},
     "output_type": "display_data"
    },
    {
     "data": {
      "text/plain": [
       "<Figure size 1440x432 with 0 Axes>"
      ]
     },
     "metadata": {},
     "output_type": "display_data"
    },
    {
     "data": {
      "text/plain": [
       "<Figure size 1440x432 with 0 Axes>"
      ]
     },
     "metadata": {},
     "output_type": "display_data"
    },
    {
     "data": {
      "text/plain": [
       "<Figure size 1440x432 with 0 Axes>"
      ]
     },
     "metadata": {},
     "output_type": "display_data"
    },
    {
     "data": {
      "text/plain": [
       "<Figure size 1440x432 with 0 Axes>"
      ]
     },
     "metadata": {},
     "output_type": "display_data"
    },
    {
     "data": {
      "text/plain": [
       "<Figure size 1440x432 with 0 Axes>"
      ]
     },
     "metadata": {},
     "output_type": "display_data"
    },
    {
     "data": {
      "text/plain": [
       "<Figure size 1440x432 with 0 Axes>"
      ]
     },
     "metadata": {},
     "output_type": "display_data"
    },
    {
     "data": {
      "text/plain": [
       "<Figure size 1440x432 with 0 Axes>"
      ]
     },
     "metadata": {},
     "output_type": "display_data"
    },
    {
     "data": {
      "text/plain": [
       "<Figure size 1440x432 with 0 Axes>"
      ]
     },
     "metadata": {},
     "output_type": "display_data"
    },
    {
     "data": {
      "text/plain": [
       "<Figure size 1440x432 with 0 Axes>"
      ]
     },
     "metadata": {},
     "output_type": "display_data"
    },
    {
     "data": {
      "text/plain": [
       "<Figure size 1440x432 with 0 Axes>"
      ]
     },
     "metadata": {},
     "output_type": "display_data"
    },
    {
     "data": {
      "text/plain": [
       "<Figure size 1440x432 with 0 Axes>"
      ]
     },
     "metadata": {},
     "output_type": "display_data"
    },
    {
     "data": {
      "text/plain": [
       "<Figure size 1440x432 with 0 Axes>"
      ]
     },
     "metadata": {},
     "output_type": "display_data"
    },
    {
     "data": {
      "text/plain": [
       "<Figure size 1440x432 with 0 Axes>"
      ]
     },
     "metadata": {},
     "output_type": "display_data"
    },
    {
     "data": {
      "text/plain": [
       "<Figure size 1440x432 with 0 Axes>"
      ]
     },
     "metadata": {},
     "output_type": "display_data"
    },
    {
     "data": {
      "text/plain": [
       "<Figure size 1440x432 with 0 Axes>"
      ]
     },
     "metadata": {},
     "output_type": "display_data"
    },
    {
     "data": {
      "text/plain": [
       "<Figure size 1440x432 with 0 Axes>"
      ]
     },
     "metadata": {},
     "output_type": "display_data"
    },
    {
     "data": {
      "text/plain": [
       "<Figure size 1440x432 with 0 Axes>"
      ]
     },
     "metadata": {},
     "output_type": "display_data"
    },
    {
     "data": {
      "text/plain": [
       "<Figure size 1440x432 with 0 Axes>"
      ]
     },
     "metadata": {},
     "output_type": "display_data"
    },
    {
     "data": {
      "text/plain": [
       "<Figure size 1440x432 with 0 Axes>"
      ]
     },
     "metadata": {},
     "output_type": "display_data"
    },
    {
     "data": {
      "text/plain": [
       "<Figure size 1440x432 with 0 Axes>"
      ]
     },
     "metadata": {},
     "output_type": "display_data"
    },
    {
     "data": {
      "text/plain": [
       "<Figure size 1440x432 with 0 Axes>"
      ]
     },
     "metadata": {},
     "output_type": "display_data"
    },
    {
     "data": {
      "text/plain": [
       "<Figure size 1440x432 with 0 Axes>"
      ]
     },
     "metadata": {},
     "output_type": "display_data"
    },
    {
     "data": {
      "text/plain": [
       "<Figure size 1440x432 with 0 Axes>"
      ]
     },
     "metadata": {},
     "output_type": "display_data"
    },
    {
     "data": {
      "text/plain": [
       "<Figure size 1440x432 with 0 Axes>"
      ]
     },
     "metadata": {},
     "output_type": "display_data"
    },
    {
     "data": {
      "text/plain": [
       "<Figure size 1440x432 with 0 Axes>"
      ]
     },
     "metadata": {},
     "output_type": "display_data"
    },
    {
     "data": {
      "text/plain": [
       "<Figure size 1440x432 with 0 Axes>"
      ]
     },
     "metadata": {},
     "output_type": "display_data"
    },
    {
     "data": {
      "text/plain": [
       "<Figure size 1440x432 with 0 Axes>"
      ]
     },
     "metadata": {},
     "output_type": "display_data"
    },
    {
     "data": {
      "text/plain": [
       "<Figure size 1440x432 with 0 Axes>"
      ]
     },
     "metadata": {},
     "output_type": "display_data"
    },
    {
     "data": {
      "text/plain": [
       "<Figure size 1440x432 with 0 Axes>"
      ]
     },
     "metadata": {},
     "output_type": "display_data"
    },
    {
     "data": {
      "text/plain": [
       "<Figure size 1440x432 with 0 Axes>"
      ]
     },
     "metadata": {},
     "output_type": "display_data"
    },
    {
     "data": {
      "image/png": "[encoded data removed]",
      "text/plain": [
       "<Figure size 1440x432 with 1 Axes>"
      ]
     },
     "metadata": {
      "needs_background": "light"
     },
     "output_type": "display_data"
    }
   ],
   "source": [
    "main()"
   ]
  },
  {
   "cell_type": "code",
   "execution_count": null,
   "metadata": {},
   "outputs": [
    {
     "name": "stdout",
     "output_type": "stream",
     "text": [
      "Task Queued...\n",
      "Start Plotting ALL_FLOORS...\n",
      "Start Plotting ALL_FLOORS...\n",
      "Plotting: AB\n",
      "Plotting: AC\n",
      "Plotting: DB\n",
      "Plotting: DD\n",
      "Plotting: FB\n",
      "Plotting: FD\n",
      "Plotting: EB\n",
      "Plotting: ED\n",
      "Plotting: SC\n",
      "Plotting: SB\n",
      "Plot for all floors cell_occupied done...\n",
      "Start Plotting SEP_FLOORS...\n",
      "cell_occupied 1\n",
      "Plotting: AB\n",
      "Plotting: AC\n",
      "Plotting: DB\n",
      "Plotting: DD\n",
      "Plotting: FB\n",
      "Plotting: FD\n",
      "Plotting: EB\n",
      "Plotting: ED\n",
      "Plotting: SC\n",
      "Plotting: SB\n",
      "cell_occupied 2\n",
      "Plotting: AB\n",
      "Plotting: AC\n",
      "Plotting: DB\n",
      "Plotting: DD\n",
      "Plotting: FB\n",
      "Plotting: FD\n",
      "Plotting: EB\n",
      "Plotting: ED\n",
      "Plotting: SC\n",
      "Plotting: SB\n",
      "cell_occupied 3\n",
      "Plotting: AB\n",
      "Plotting: AC\n",
      "Plotting: DB\n",
      "Plotting: DD\n",
      "Plotting: FB\n",
      "Plotting: FD\n",
      "Plotting: EB\n",
      "Plotting: ED\n",
      "Plotting: SC\n",
      "Plotting: SB\n",
      "cell_occupied 4\n",
      "Plotting: AB\n",
      "Plotting: AC\n",
      "Plotting: DB\n",
      "Plotting: DD\n",
      "Plotting: FB\n",
      "Plotting: FD\n",
      "Plotting: EB\n",
      "Plotting: ED\n",
      "Plotting: SC\n",
      "Plotting: SB\n",
      "Plot for seperate floors cell_occupied done...\n",
      "Start Merging...\n",
      "Heatmap Updated.\n",
      "Start Plotting ALL_FLOORS...\n",
      "Start Plotting ALL_FLOORS...\n",
      "Plotting: AB\n",
      "Plotting: AC\n",
      "Plotting: DB\n",
      "Plotting: DD\n",
      "Plotting: FB\n",
      "Plotting: FD\n",
      "Plotting: EB\n",
      "Plotting: ED\n",
      "Plotting: SC\n",
      "Plotting: SB\n",
      "Plot for all floors cell_occupied done...\n",
      "Start Plotting SEP_FLOORS...\n",
      "cell_occupied 1\n",
      "Plotting: AB\n",
      "Plotting: AC\n",
      "Plotting: DB\n",
      "Plotting: DD\n",
      "Plotting: FB\n",
      "Plotting: FD\n",
      "Plotting: EB\n",
      "Plotting: ED\n",
      "Plotting: SC\n",
      "Plotting: SB\n",
      "cell_occupied 2\n",
      "Plotting: AB\n",
      "Plotting: AC\n",
      "Plotting: DB\n",
      "Plotting: DD\n",
      "Plotting: FB\n",
      "Plotting: FD\n",
      "Plotting: EB\n",
      "Plotting: ED\n",
      "Plotting: SC\n",
      "Plotting: SB\n",
      "cell_occupied 3\n",
      "Plotting: AB\n",
      "Plotting: AC\n",
      "Plotting: DB\n",
      "Plotting: DD\n",
      "Plotting: FB\n",
      "Plotting: FD\n",
      "Plotting: EB\n",
      "Plotting: ED\n",
      "Plotting: SC\n",
      "Plotting: SB\n",
      "cell_occupied 4\n",
      "Plotting: AB\n",
      "Plotting: AC\n",
      "Plotting: DB\n",
      "Plotting: DD\n",
      "Plotting: FB\n",
      "Plotting: FD\n",
      "Plotting: EB\n",
      "Plotting: ED\n",
      "Plotting: SC\n",
      "Plotting: SB\n",
      "Plot for seperate floors cell_occupied done...\n",
      "Start Merging...\n",
      "Heatmap Updated.\n",
      "Start Plotting ALL_FLOORS...\n",
      "Start Plotting ALL_FLOORS...\n",
      "Plotting: AB\n",
      "Plotting: AC\n",
      "Plotting: DB\n",
      "Plotting: DD\n",
      "Plotting: FB\n",
      "Plotting: FD\n",
      "Plotting: EB\n",
      "Plotting: ED\n",
      "Plotting: SC\n",
      "Plotting: SB\n",
      "Plot for all floors cell_occupied done...\n",
      "Start Plotting SEP_FLOORS...\n",
      "cell_occupied 1\n",
      "Plotting: AB\n",
      "Plotting: AC\n",
      "Plotting: DB\n",
      "Plotting: DD\n",
      "Plotting: FB\n",
      "Plotting: FD\n",
      "Plotting: EB\n",
      "Plotting: ED\n",
      "Plotting: SC\n",
      "Plotting: SB\n",
      "cell_occupied 2\n",
      "Plotting: AB\n",
      "Plotting: AC\n",
      "Plotting: DB\n",
      "Plotting: DD\n",
      "Plotting: FB\n",
      "Plotting: FD\n",
      "Plotting: EB\n",
      "Plotting: ED\n",
      "Plotting: SC\n",
      "Plotting: SB\n",
      "cell_occupied 3\n",
      "Plotting: AB\n",
      "Plotting: AC\n",
      "Plotting: DB\n",
      "Plotting: DD\n",
      "Plotting: FB\n",
      "Plotting: FD\n",
      "Plotting: EB\n",
      "Plotting: ED\n",
      "Plotting: SC\n",
      "Plotting: SB\n",
      "cell_occupied 4\n",
      "Plotting: AB\n",
      "Plotting: AC\n",
      "Plotting: DB\n",
      "Plotting: DD\n",
      "Plotting: FB\n",
      "Plotting: FD\n",
      "Plotting: EB\n",
      "Plotting: ED\n",
      "Plotting: SC\n",
      "Plotting: SB\n",
      "Plot for seperate floors cell_occupied done...\n",
      "Start Merging...\n",
      "Heatmap Updated.\n",
      "Start Plotting ALL_FLOORS...\n",
      "Start Plotting ALL_FLOORS...\n",
      "Plotting: AB\n",
      "Plotting: AC\n",
      "Plotting: DB\n",
      "Plotting: DD\n",
      "Plotting: FB\n",
      "Plotting: FD\n",
      "Plotting: EB\n",
      "Plotting: ED\n",
      "Plotting: SC\n",
      "Plotting: SB\n",
      "Plot for all floors cell_occupied done...\n",
      "Start Plotting SEP_FLOORS...\n",
      "cell_occupied 1\n",
      "Plotting: AB\n",
      "Plotting: AC\n",
      "Plotting: DB\n",
      "Plotting: DD\n",
      "Plotting: FB\n",
      "Plotting: FD\n",
      "Plotting: EB\n",
      "Plotting: ED\n",
      "Plotting: SC\n",
      "Plotting: SB\n",
      "cell_occupied 2\n",
      "Plotting: AB\n",
      "Plotting: AC\n",
      "Plotting: DB\n",
      "Plotting: DD\n",
      "Plotting: FB\n",
      "Plotting: FD\n",
      "Plotting: EB\n",
      "Plotting: ED\n",
      "Plotting: SC\n",
      "Plotting: SB\n",
      "cell_occupied 3\n",
      "Plotting: AB\n",
      "Plotting: AC\n",
      "Plotting: DB\n",
      "Plotting: DD\n",
      "Plotting: FB\n",
      "Plotting: FD\n",
      "Plotting: EB\n",
      "Plotting: ED\n",
      "Plotting: SC\n",
      "Plotting: SB\n",
      "cell_occupied 4\n",
      "Plotting: AB\n",
      "Plotting: AC\n",
      "Plotting: DB\n",
      "Plotting: DD\n",
      "Plotting: FB\n",
      "Plotting: FD\n",
      "Plotting: EB\n",
      "Plotting: ED\n",
      "Plotting: SC\n",
      "Plotting: SB\n",
      "Plot for seperate floors cell_occupied done...\n",
      "Start Merging...\n",
      "Heatmap Updated.\n"
     ]
    }
   ],
   "source": [
    "if __name__ == \"__main__\":\n",
    "\n",
    "    schedule.every().day.at(\"00:10\").do(lambda: main())\n",
    "    print('Task Queued...')\n",
    "    while True:\n",
    "        schedule.run_pending()\n",
    "        time.sleep(30) # wait one minute"
   ]
  },
  {
   "cell_type": "code",
   "execution_count": null,
   "metadata": {
    "executionInfo": {
     "elapsed": 3,
     "status": "ok",
     "timestamp": 1667183277507,
     "user": {
      "displayName": "Angus Ho",
      "userId": "03852031149043962364"
     },
     "user_tz": -480
    },
    "id": "NpdayOwbuf4m"
   },
   "outputs": [],
   "source": [
    "now =datetime.now().strftime(\"%Y-%m-%d\")\n",
    "zone_lst =['AB', 'AC', 'DB', 'DD', 'FB','FD', 'EB','ED','SC', 'SB']"
   ]
  },
  {
   "cell_type": "code",
   "execution_count": null,
   "metadata": {
    "executionInfo": {
     "elapsed": 7894,
     "status": "ok",
     "timestamp": 1667183285399,
     "user": {
      "displayName": "Angus Ho",
      "userId": "03852031149043962364"
     },
     "user_tz": -480
    },
    "id": "D_585OHb_0yB"
   },
   "outputs": [],
   "source": [
    "for zone in zone_lst:\n",
    "    if os.path.exists('Ouput/{}/{}'.format(zone, now)) == False:\n",
    "        os.makedirs('Output/{}/{}'.format(zone, now))\n",
    "\n",
    "    \n"
   ]
  },
  {
   "cell_type": "code",
   "execution_count": null,
   "metadata": {
    "code_folding": [],
    "colab": {
     "base_uri": "https://localhost:8080/",
     "height": 1000
    },
    "executionInfo": {
     "elapsed": 89685,
     "status": "ok",
     "timestamp": 1667183375074,
     "user": {
      "displayName": "Angus Ho",
      "userId": "03852031149043962364"
     },
     "user_tz": -480
    },
    "id": "jr08mz2AHqE4",
    "outputId": "99ae40c5-d693-4fa4-f1e8-f898143d150a"
   },
   "outputs": [],
   "source": [
    "# 四層一起畫\n",
    "# 1.\n",
    "\n",
    "zone_lst =['AB', 'AC', 'DB', 'DD', 'FB','FD', 'EB','ED','SC', 'SB'] #HV\n",
    "floor_lst = [1,2,3,4]\n",
    "#     df = pd.read_csv('/content/drive/MyDrive/heatmap_testViz/HM_test.csv')\n",
    "df = input_df[input_df['zone_id'].isin(zone_lst) & input_df['floor_id'].isin(floor_lst)]\n",
    "\n",
    "# 2. 計算並推薦前十空的走道 (沒有AB AC區就不用跑，有ABAC)\n",
    "recomend_dct=[]\n",
    "recomend_dct = recomend_path(df, zone_lst)\n",
    "print(recomend_dct)\n",
    "print(\"Rec done...\")\n",
    "    \n",
    "# 3. 計算每個儲位的使用狀態\n",
    "zone_dct = calculate_usage(df, zone_lst)\n",
    "#print(zone_dct.items())\n",
    "print(\"Usage done...\")\n",
    "    \n",
    "# 4. 額外處理 AB AC\n",
    " #merge_AB_AC()\n",
    "    \n",
    "# 5. 繪製圖片\n",
    "# sku_qty: 3.5\n",
    "# pcs: 30\n",
    "for topic in ['cell_occupied','pcs', 'sku_qty']:\n",
    "    thres = 1 if topic == 'pcs' else 1\n",
    "    plotheatmap(zone_dct, recomend_dct, by=topic , threshold=thres)\n",
    "    print(\"{} done...\".format(topic))"
   ]
  },
  {
   "cell_type": "code",
   "execution_count": null,
   "metadata": {
    "executionInfo": {
     "elapsed": 5,
     "status": "ok",
     "timestamp": 1667183375075,
     "user": {
      "displayName": "Angus Ho",
      "userId": "03852031149043962364"
     },
     "user_tz": -480
    },
    "id": "seB42pwm_0yC"
   },
   "outputs": [],
   "source": [
    "# for zone in zone_lst:\n",
    "# #     print(\"calculating zone:\", zone)\n",
    "#     zone_df = df[df[\"zone_id\"] == zone]\n",
    "#     # zone_df['cell_blocked']=0\n",
    "#     all_pathway = zone_df[\"pathway_id\"].unique() # 該zone所有的pathway\n",
    "# #     print('All pathways:', all_pathway)\n",
    "#     dct = dict()\n",
    "#     for idx, path in enumerate(range(1, max(all_pathway)+1)):\n",
    "#       # path_df\n",
    "#         if path in all_pathway: # 如果現在的編號有實體pathway (沒有被跳過)\n",
    "#             path_df = zone_df[(zone_df[\"pathway_id\"] == path)][[\"segment_id\", \"cell_occupied\",'sku_qty','pcs', 'cell_blocked',\"length(cm)\", \"width(cm)\"]]\n",
    "\n",
    "#             # 2022/09/19 Update:  \n",
    "#             # path_df['cell_blocked']=0\n",
    "#             # path_df.loc[path_df['cell_occupied']=='/', 'cell_blocked'] = 1\n",
    "#             # path_df.loc[path_df['cell_occupied']!='/', 'cell_blocked'] = 0\n",
    "\n",
    "\n",
    "#             # path_df[\"cell_occupied\"].replace({\"N\":0, \"Y\": 1, \"/\":0}, inplace=True)\n",
    "#             path_df = path_df.groupby(\"segment_id\").mean()\n",
    "#             path_df[\"length(cm)\"] = 2000 / len(path_df.index) # 該segment有幾個cell\n",
    "#             print(path_df)\n",
    "#             break"
   ]
  },
  {
   "cell_type": "code",
   "execution_count": null,
   "metadata": {
    "code_folding": [],
    "colab": {
     "base_uri": "https://localhost:8080/",
     "height": 1000
    },
    "executionInfo": {
     "elapsed": 517199,
     "status": "ok",
     "timestamp": 1667183892270,
     "user": {
      "displayName": "Angus Ho",
      "userId": "03852031149043962364"
     },
     "user_tz": -480
    },
    "id": "cimAAcYwJ499",
    "outputId": "2a486c38-20d0-4ecf-c065-74fe3f747824"
   },
   "outputs": [],
   "source": [
    "# 分層畫\n",
    "zone_lst =['AB','AC','DB', 'DD', 'FB','FD', 'EB','ED','SC', 'SB'] #HV\n",
    "floor_lst = [1,2,3,4]\n",
    "\n",
    "input_df = input_df[input_df['zone_id'].isin(zone_lst)]\n",
    "for topic in ['cell_occupied','pcs', 'sku_qty']:\n",
    "    for floor_num in floor_lst:\n",
    "        print(topic, floor_num)\n",
    "        # 獲取指定樓層的資料\n",
    "        df = input_df[input_df['floor_id']==floor_num]\n",
    "\n",
    "            \n",
    "        # 計算每個儲位的使用狀態        \n",
    "        zone_dct = calculate_usage(df, zone_lst)\n",
    "\n",
    "        # 繪製熱點圖\n",
    "        threshold = 30 if topic == 'pcs' else 3.5\n",
    "        plotheatmap_byfloor(zone_dct, by=topic, threshold=threshold, floor_num = floor_num)\n",
    "        # print(\"floor{}.format(floor_num) done...\")"
   ]
  },
  {
   "cell_type": "markdown",
   "metadata": {
    "id": "F8yAZCdVqbMv"
   },
   "source": [
    "# Graph merging"
   ]
  },
  {
   "cell_type": "code",
   "execution_count": null,
   "metadata": {
    "executionInfo": {
     "elapsed": 4,
     "status": "ok",
     "timestamp": 1667183892270,
     "user": {
      "displayName": "Angus Ho",
      "userId": "03852031149043962364"
     },
     "user_tz": -480
    },
    "id": "82gbIsQNroiy"
   },
   "outputs": [],
   "source": [
    "\n",
    "zone_lst =['AB', 'AC', 'DB', 'DD', 'FB','FD', 'EB','ED','SC', 'SB'] #HV\n",
    "for zone in zone_lst:\n",
    "    if os.path.exists('Result/{}'.format(zone)) == False:\n",
    "        os.makedirs('Result/{}'.format(zone))"
   ]
  },
  {
   "cell_type": "code",
   "execution_count": null,
   "metadata": {
    "executionInfo": {
     "elapsed": 4,
     "status": "ok",
     "timestamp": 1667183892271,
     "user": {
      "displayName": "Angus Ho",
      "userId": "03852031149043962364"
     },
     "user_tz": -480
    },
    "id": "gXRmdc9hqkOO"
   },
   "outputs": [],
   "source": [
    "from PIL import Image"
   ]
  },
  {
   "cell_type": "code",
   "execution_count": null,
   "metadata": {
    "code_folding": [],
    "executionInfo": {
     "elapsed": 4,
     "status": "ok",
     "timestamp": 1667183892271,
     "user": {
      "displayName": "Angus Ho",
      "userId": "03852031149043962364"
     },
     "user_tz": -480
    },
    "id": "Am3AR81Frhc6"
   },
   "outputs": [],
   "source": [
    "def image_concat(zone, topic):\n",
    "    now = datetime.now().strftime(\"%Y-%m-%d\")\n",
    "    img1 = Image.open('Output/{}/{}/{}_{}_1F_{}.png'.format(zone, now,  zone,topic, now))\n",
    "    img2 = Image.open('Output/{}/{}/{}_{}_2F_{}.png'.format(zone, now,  zone,topic, now))\n",
    "    img3 = Image.open('Output/{}/{}/{}_{}_3F_{}.png'.format(zone, now,  zone,topic, now))\n",
    "    img4 = Image.open('Output/{}/{}/{}_{}_4F_{}.png'.format(zone, now,  zone,topic, now))\n",
    "    max_width = max(img1.size[0], img2.size[0], img3.size[0], img4.size[0])\n",
    "    max_height = max(img1.size[1], img2.size[1], img3.size[1], img4.size[1])\n",
    "    joint = Image.new(\"RGB\", (max_width, max_height*4))\n",
    "    loc1, loc2, loc3, loc4 = (0,0), (0, max_height*1),(0, max_height*2), (0, max_height*3)\n",
    "    # print(max_height, max_width)\n",
    "    joint.paste(img1, loc1)\n",
    "    joint.paste(img2, loc2)\n",
    "    joint.paste(img3, loc3)\n",
    "    joint.paste(img4, loc4)\n",
    "    joint.save('Result/{}.jpg'.format(zone,zone, topic))"
   ]
  },
  {
   "cell_type": "code",
   "execution_count": null,
   "metadata": {},
   "outputs": [],
   "source": [
    "zone_lst =['AB', 'AC', 'DB', 'DD', 'FB','FD', 'EB','ED','SC', 'SB']\n",
    "for zone in zone_lst:\n",
    "    if zone != 'AC' and zone != 'AB':\n",
    "      \n",
    "        for topic in ['cell_occupied']:\n",
    "            print('ZONE',zone)\n",
    "            image_concat(zone, topic)"
   ]
  },
  {
   "cell_type": "code",
   "execution_count": null,
   "metadata": {
    "executionInfo": {
     "elapsed": 88322,
     "status": "ok",
     "timestamp": 1667183980589,
     "user": {
      "displayName": "Angus Ho",
      "userId": "03852031149043962364"
     },
     "user_tz": -480
    },
    "id": "0CIc-RN1yw4T"
   },
   "outputs": [],
   "source": [
    "\n",
    "for zone in zone_lst:\n",
    "    for f in os.listdir('Result/{}'.format(zone)):\n",
    "        os.remove(os.path.join('Result/{}'.format(zone), f))\n",
    "#     for topic in ['pcs', 'sku_qty', 'cell_occupied']:\n",
    "#         image_concat(zone, topic)"
   ]
  },
  {
   "cell_type": "markdown",
   "metadata": {},
   "source": [
    "# Drive Sync"
   ]
  },
  {
   "cell_type": "code",
   "execution_count": null,
   "metadata": {},
   "outputs": [],
   "source": []
  },
  {
   "cell_type": "code",
   "execution_count": null,
   "metadata": {},
   "outputs": [],
   "source": [
    "input_df = get_input_df()\n",
    "print(input_df.shape)\n",
    "now =datetime.now().strftime(\"%Y-%m-%d\")\n",
    "zone_lst =['AB', 'AC', 'DB', 'DD', 'FB','FD', 'EB','ED','SC', 'SB']\n",
    "try:\n",
    "    for zone in zone_lst:\n",
    "        if os.path.exists('Result/{}/{}'.format(zone, now)) == False:\n",
    "            os.makedirs('Output/{}/{}'.format(zone, now))\n",
    "except:\n",
    "    pass\n",
    "\n",
    "# Sec1. 四層一起畫\n",
    "print('Start Plotting ALL_FLOORS...')\n",
    "# 1.\n",
    "\n",
    "zone_lst =['AB', 'AC', 'DB', 'DD', 'FB','FD', 'EB','ED','SC', 'SB'] #HV\n",
    "floor_lst = [1,2,3,4]\n",
    "#     df = pd.read_csv('/content/drive/MyDrive/heatmap_testViz/HM_test.csv')\n",
    "df = input_df[input_df['zone_id'].isin(zone_lst) & input_df['floor_id'].isin(floor_lst)]\n",
    "\n",
    "# 2. 計算並推薦前十空的走道 (沒有AB AC區就不用跑，有ABAC)\n",
    "recomend_dct=[]\n",
    "recomend_dct = recomend_path(df, zone_lst)\n",
    "print(recomend_dct)\n",
    "print(\"Rec done...\")\n",
    "\n",
    "# 3. 計算每個儲位的使用狀態\n",
    "zone_dct = calculate_usage(df, zone_lst)\n",
    "#print(zone_dct.items())\n",
    "print(\"Usage done...\")\n",
    "\n"
   ]
  },
  {
   "cell_type": "code",
   "execution_count": null,
   "metadata": {},
   "outputs": [],
   "source": [
    "for path in range(10, 16):\n",
    "    zone_dct['AC'][path] = seg_compress(zone_dct['AC'][path])"
   ]
  },
  {
   "cell_type": "code",
   "execution_count": null,
   "metadata": {},
   "outputs": [],
   "source": [
    "for topic in ['cell_occupied']:#,'pcs', 'sku_qty']:\n",
    "    thres = 1 if topic == 'pcs' else 1\n",
    "    plotheatmap(zone_dct, recomend_dct, by=topic , threshold=thres)\n",
    "    print(\"{} done...\".format(topic))"
   ]
  },
  {
   "cell_type": "code",
   "execution_count": null,
   "metadata": {},
   "outputs": [],
   "source": [
    "ac_df = zone_dct['AC'][13]\n",
    "ac_df"
   ]
  },
  {
   "cell_type": "code",
   "execution_count": null,
   "metadata": {},
   "outputs": [],
   "source": [
    "input_df.query(\"zone_id=='AC' & pathway_id==11\").groupby('segment_id').sum().head(39)"
   ]
  },
  {
   "cell_type": "code",
   "execution_count": null,
   "metadata": {},
   "outputs": [],
   "source": [
    "\"\"\"\n",
    "seg1 = 1-9 # 0-9\n",
    "seg2 = 10-18 # 9-18\n",
    "seg3 = 19-27 # 18-27\n",
    "seg4 = 28-36 # 27-36\n",
    "input_df.loc[(input_df['zone_id']=='AC') & (input_df['pathway_id']<=3), 'cell_blocked'] = 1\n",
    "\"\"\""
   ]
  },
  {
   "cell_type": "code",
   "execution_count": null,
   "metadata": {},
   "outputs": [],
   "source": [
    "ac_df"
   ]
  },
  {
   "cell_type": "code",
   "execution_count": null,
   "metadata": {},
   "outputs": [],
   "source": [
    "mod = ac_df.head(36).reset_index()\n",
    "mod = ac_df.head(36).reset_index()\n",
    "mod['group'] = mod['segment_id'].apply(lambda x: int((x-1)/9))"
   ]
  },
  {
   "cell_type": "code",
   "execution_count": null,
   "metadata": {},
   "outputs": [],
   "source": [
    "mod"
   ]
  },
  {
   "cell_type": "code",
   "execution_count": null,
   "metadata": {},
   "outputs": [],
   "source": [
    "items = mod[['cell_occupied', 'sku_qty', 'pcs', 'group', 'length(cm)']].groupby(['group']).sum().reset_index().drop('group', axis = 1)\n",
    "items"
   ]
  },
  {
   "cell_type": "code",
   "execution_count": null,
   "metadata": {},
   "outputs": [],
   "source": [
    "width = mod[['cell_blocked', 'width(cm)', 'x', 'group']].groupby('group').min().reset_index().drop('group', axis = 1)\n",
    "width"
   ]
  },
  {
   "cell_type": "code",
   "execution_count": null,
   "metadata": {},
   "outputs": [],
   "source": [
    "length = mod[['y', 'group']].groupby('group').max().reset_index().drop('group', axis = 1)\n",
    "length"
   ]
  },
  {
   "cell_type": "code",
   "execution_count": null,
   "metadata": {},
   "outputs": [],
   "source": [
    "items"
   ]
  },
  {
   "cell_type": "code",
   "execution_count": null,
   "metadata": {},
   "outputs": [],
   "source": [
    "compressed_df = pd.concat([items, width, length], axis = 1).reset_index()\n",
    "compressed_df.rename(columns={'index':'segment_id'}, inplace=True)\n",
    "compressed_df['segment_id'] = compressed_df['segment_id']+1\n",
    "compressed_df"
   ]
  },
  {
   "cell_type": "code",
   "execution_count": null,
   "metadata": {},
   "outputs": [],
   "source": [
    "rest_of_df = ac_df.tail(36).reset_index()\n",
    "rest_of_df['segment_id']-=32 \n",
    "rest_of_df"
   ]
  },
  {
   "cell_type": "code",
   "execution_count": null,
   "metadata": {},
   "outputs": [],
   "source": [
    "merge_df = pd.concat([rest_of_df, compressed_df], axis= 0)\n",
    "final_df = merge_df.sort_values(by='segment_id')\n",
    "final_df.set_index('segment_id', inplace=True)\n",
    "final_df"
   ]
  },
  {
   "cell_type": "code",
   "execution_count": null,
   "metadata": {},
   "outputs": [],
   "source": [
    "def seg_compress(ac_df):\n",
    "    mod = ac_df.head(36).reset_index()\n",
    "    mod = ac_df.head(36).reset_index()\n",
    "    mod['group'] = mod['segment_id'].apply(lambda x: int((x-1)/9))\n",
    "    \n",
    "    items = mod[['cell_occupied', 'sku_qty', 'pcs', 'group', 'length(cm)']].groupby(['group']).sum().reset_index().drop('group', axis = 1)\n",
    "    width = mod[['cell_blocked', 'width(cm)', 'x', 'group']].groupby('group').min().reset_index().drop('group', axis = 1)\n",
    "    length = mod[['y', 'group']].groupby('group').max().reset_index().drop('group', axis = 1)\n",
    "    \n",
    "    compressed_df = pd.concat([items, width, length], axis = 1).reset_index()\n",
    "    compressed_df.rename(columns={'index':'segment_id'}, inplace=True)\n",
    "    compressed_df['segment_id'] = compressed_df['segment_id']+1\n",
    "    \n",
    "    rest_of_df = ac_df.tail(36).reset_index()\n",
    "    rest_of_df['segment_id']-=32 \n",
    "    \n",
    "    merge_df = pd.concat([rest_of_df, compressed_df], axis= 0)\n",
    "    final_df = merge_df.sort_values(by='segment_id')\n",
    "    final_df.set_index('segment_id', inplace=True)\n",
    "    \n",
    "    return final_df"
   ]
  },
  {
   "cell_type": "code",
   "execution_count": null,
   "metadata": {},
   "outputs": [],
   "source": []
  }
 ],
 "metadata": {
  "colab": {
   "provenance": []
  },
  "kernelspec": {
   "display_name": "Python 3 (ipykernel)",
   "language": "python",
   "name": "python3"
  },
  "language_info": {
   "codemirror_mode": {
    "name": "ipython",
    "version": 3
   },
   "file_extension": ".py",
   "mimetype": "text/x-python",
   "name": "python",
   "nbconvert_exporter": "python",
   "pygments_lexer": "ipython3",
   "version": "3.9.7"
  },
  "toc": {
   "base_numbering": 1,
   "nav_menu": {},
   "number_sections": true,
   "sideBar": true,
   "skip_h1_title": false,
   "title_cell": "Table of Contents",
   "title_sidebar": "Contents",
   "toc_cell": false,
   "toc_position": {},
   "toc_section_display": true,
   "toc_window_display": true
  }
 },
 "nbformat": 4,
 "nbformat_minor": 1
}
